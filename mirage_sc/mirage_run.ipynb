{
 "cells": [
  {
   "cell_type": "code",
   "execution_count": 1,
   "metadata": {},
   "outputs": [
    {
     "name": "stderr",
     "output_type": "stream",
     "text": [
      "\u001b[34m\u001b[1mwandb\u001b[0m: Currently logged in as: \u001b[33mraminass\u001b[0m. Use \u001b[1m`wandb login --relogin`\u001b[0m to force relogin\n"
     ]
    }
   ],
   "source": [
    "import pandas as pd\n",
    "import sys\n",
    "\n",
    "import os\n",
    "\n",
    "workdir = os.getcwd()\n",
    "os.environ['MPLCONFIGDIR'] = f'{workdir}/.cache'\n",
    "os.environ['WANDB_CACHE_DIR'] = f'{workdir}/.cache'\n",
    "import cyclic_gan as gan\n",
    "\n",
    "import wandb\n",
    "\n",
    "workdir = os.getcwd()\n",
    "sys.path.append(workdir)\n",
    "os.environ['WANDB_NOTEBOOK_NAME'] = \"10_run_cyclicGAN_integration.ipynb\"\n",
    "wandb.login()\n",
    "\n",
    "%reload_ext autoreload\n",
    "%autoreload 2"
   ]
  },
  {
   "cell_type": "markdown",
   "metadata": {},
   "source": [
    "# U2OS Data"
   ]
  },
  {
   "cell_type": "code",
   "execution_count": 10,
   "metadata": {},
   "outputs": [],
   "source": [
    "# img_path = f'{workdir}/3_outputs_format_image_emd/hek293_img_emb.tsv' # hek293\n",
    "img_path = f'{workdir}/3_outputs_format_image_emd/HPA_U2OS_emd_{1024}.zip' # U2OS\n",
    "img_features = pd.read_table(img_path, sep='\\t', index_col=0)"
   ]
  },
  {
   "cell_type": "code",
   "execution_count": 11,
   "metadata": {},
   "outputs": [],
   "source": [
    "\n",
    "# ppi_path = '/home/bnet/raminasser/mlm/outputs/Dec18_13-27-48_n-501_feat.tsv' # BioPlex3\n",
    "# # ppi_path = '/home/bnet/raminasser/CLIP-MUSE/5_outputs_run_clip_integration/Nov02_09-12-56_n-501_feat.tsv' # BioPlex2.0\n",
    "# ppi_features = pd.read_table(ppi_path, sep='\\t', index_col=0)\n",
    "ppi_features = pd.read_table(f'{workdir}/2_outputs_run_node2vec_format_apms_emd/bioplex_U2OS_emd_{1024}.tsv', sep='\\t', index_col=0)"
   ]
  },
  {
   "cell_type": "code",
   "execution_count": 6,
   "metadata": {},
   "outputs": [
    {
     "name": "stdout",
     "output_type": "stream",
     "text": [
      "5250\n"
     ]
    }
   ],
   "source": [
    "overlapping_proteins = list(set(img_features.index.values).intersection(set(ppi_features.index.values)))\n",
    "print(len(overlapping_proteins))"
   ]
  },
  {
   "cell_type": "code",
   "execution_count": 7,
   "metadata": {},
   "outputs": [],
   "source": [
    "img_features = img_features.loc[overlapping_proteins]\n",
    "ppi_features = ppi_features.loc[overlapping_proteins]"
   ]
  },
  {
   "cell_type": "markdown",
   "metadata": {},
   "source": [
    "# BioPlex 3.0"
   ]
  },
  {
   "cell_type": "code",
   "execution_count": 2,
   "metadata": {},
   "outputs": [],
   "source": [
    "img_first = pd.read_table(f'{workdir}/3_outputs_format_image_emd/hek293_img_emb_first.tsv', sep='\\t', index_col=0)\n",
    "# img_mean = pd.read_table(f'{workdir}/3_outputs_format_image_emd/hek293_img_emb_mean.tsv', sep='\\t', index_col=0)\n",
    "ppi_node2vec = pd.read_table(f'{workdir}/2_outputs_run_node2vec_format_apms_emd/bioplex3.tsv', sep='\\t', index_col=0)\n",
    "# ppi_bert = pd.read_table(f'/home/bnet/raminasser/mlm/outputs/Dec18_13-27-48_n-501_feat.tsv', sep='\\t', index_col=0)"
   ]
  },
  {
   "cell_type": "code",
   "execution_count": 3,
   "metadata": {},
   "outputs": [
    {
     "name": "stdout",
     "output_type": "stream",
     "text": [
      "876\n"
     ]
    }
   ],
   "source": [
    "overlapping_proteins = list(set(img_first.index.values).intersection(set(ppi_node2vec.index.values)))\n",
    "print(len(overlapping_proteins))"
   ]
  },
  {
   "cell_type": "code",
   "execution_count": 4,
   "metadata": {},
   "outputs": [],
   "source": [
    "img_first = img_first.loc[overlapping_proteins]\n",
    "# img_mean = img_mean.loc[overlapping_proteins]\n",
    "ppi_node2vec = ppi_node2vec.loc[overlapping_proteins]\n",
    "# ppi_bert = ppi_bert.loc[overlapping_proteins]"
   ]
  },
  {
   "cell_type": "markdown",
   "metadata": {},
   "source": [
    "# ModelTrain"
   ]
  },
  {
   "cell_type": "markdown",
   "metadata": {},
   "source": [
    "## 4 neworks"
   ]
  },
  {
   "cell_type": "code",
   "execution_count": null,
   "metadata": {},
   "outputs": [],
   "source": [
    "wandb.finish()\n",
    "wandb.init(\n",
    "    # Set the project where this run will be logged\n",
    "    project=\"Cyclic-GAN\",\n",
    "    # We pass a run name (otherwise it’ll be randomly assigned, like sunshine-lollypop-10)\n",
    "    # name=f\"U2OS\",\n",
    "    # Track hyperparameters and run metadata\n",
    "    config={\n",
    "        # Define the model hyperparameters\n",
    "        \"batch_size\": 16,\n",
    "        \"dropout\": 0.0,  # 0.25\n",
    "        \"latent_dim\": 128,  # output dim of embedding\n",
    "        \"hidden_dim\": 512,\n",
    "        # Training Configuration\n",
    "        \"isTrain\": True,\n",
    "        \"continue_train\": False,\n",
    "        \"verbose\": True,\n",
    "        \"n_epochs\": 100, # number of epochs with the initial learning rate\n",
    "        \"epoch_count\": 1, #\n",
    "        \"n_epochs_decay\": 100,  # number of epochs to linearly decay learning rate to zero\n",
    "        \"gpu_ids\": [1],\n",
    "        \"num_threads\": 4,\n",
    "        # initializers\n",
    "        \"init_type\": \"normal\", # normal, xavier, kaiming, orthogonal\n",
    "        \"init_gain\": 0.02, # scaling factor for normal, xavier and orthogonal.\n",
    "        # Loss weights\n",
    "        \"lambda_G\": 1.0,\n",
    "        \"lambda_latent_cycle\": 10.0,\n",
    "        \"lambda_short_cycle\": 10.0,\n",
    "        # Gradient penalty\n",
    "        \"lambda_gp\": 0.1,#gradient penalty lambda https://arxiv.org/pdf/1704.00028 \n",
    "        \"gp_constant\": 0.0, # gradient penalty constant https://arxiv.org/pdf/1704.00028\n",
    "        \"gp_type\": \"real\", # [real | fake | mixed] Type of the gradient penalty\n",
    "        \"pool_size\": 8, # the size of image buffer that stores previously generated images\n",
    "        \"gan_mode\": \"lsgan\", # [vanilla| lsgan | wgangp], the type of GAN objective. vanilla GAN loss is the cross-entropy objective used in the orignal GAN paper.\n",
    "        # Adam optimizer\n",
    "        \"beta1\": 0.5, # momentum term of adam\n",
    "        \"lr\": 0.0002,  # initial learning rate for adam\n",
    "        \"lr_policy\": \"linear\", # learning rate policy. [linear | step | plateau | cosine]\n",
    "        #Data\n",
    "        \"workdir\": f\"{workdir}/10_outputs_run_gan\",\n",
    "        \"input_files\": [\n",
    "            \"HEK293_interactions/apms_ppi/ppi_edgelist_emb_1024.tsv\",\n",
    "            \"HEK293_interactions/plms_ppi/ppi_edgelist_emb_1024.tsv\",\n",
    "            \"HEK293_interactions/secms_ppi/ppi_edgelist_emb_1024.tsv\",\n",
    "            \"HEK293_interactions/xlms_ppi/ppi_edgelist_emb_1024.tsv\",\n",
    "        ],\n",
    "        \"modalities\": [\"apms\", \"plms\", \"secms\", \"xlms\"],\n",
    "    },\n",
    ")"
   ]
  },
  {
   "cell_type": "markdown",
   "metadata": {},
   "source": [
    "## Proteomics"
   ]
  },
  {
   "cell_type": "code",
   "execution_count": null,
   "metadata": {},
   "outputs": [],
   "source": [
    "wandb.finish()\n",
    "wandb.init(\n",
    "    # Set the project where this run will be logged\n",
    "    project=\"Cyclic-GAN\",\n",
    "    # We pass a run name (otherwise it’ll be randomly assigned, like sunshine-lollypop-10)\n",
    "    # name=f\"U2OS\",\n",
    "    # Track hyperparameters and run metadata\n",
    "    config={\n",
    "        # Define the model hyperparameters\n",
    "        \"batch_size\": 16,\n",
    "        \"dropout\": 0.0,  # 0.25\n",
    "        \"latent_dim\": 128,  # output dim of embedding\n",
    "        \"hidden_dim\": 512,\n",
    "        # Training Configuration\n",
    "        \"isTrain\": True,\n",
    "        \"continue_train\": False,\n",
    "        \"verbose\": True,\n",
    "        \"n_epochs\": 100,  # number of epochs with the initial learning rate\n",
    "        \"epoch_count\": 1,\n",
    "        \"n_epochs_decay\": 100,  # number of epochs to linearly decay learning rate to zero\n",
    "        \"gpu_ids\": [0],\n",
    "        \"num_threads\": 4,\n",
    "        # initializers\n",
    "        \"init_type\": \"xavier\",  # normal, xavier, kaiming, orthogonal\n",
    "        \"init_gain\": 0.02,  # scaling factor for normal, xavier and orthogonal.\n",
    "        # Loss weights\n",
    "        \"lambda_G\": 1.0,\n",
    "        \"lambda_latent_cycle\": 10.0,\n",
    "        \"lambda_short_cycle\": 10.0,\n",
    "        # Gradient penalty\n",
    "        \"lambda_gp\": 0.1,  # gradient penalty lambda https://arxiv.org/pdf/1704.00028\n",
    "        \"gp_constant\": 0.0,  # gradient penalty constant https://arxiv.org/pdf/1704.00028\n",
    "        # [real | fake | mixed] Type of the gradient penalty\n",
    "        \"gp_type\": \"real\",\n",
    "        \"pool_size\": 50,  # the size of image buffer that stores previously generated images\n",
    "        # [vanilla| lsgan | wgangp], the type of GAN objective. vanilla GAN loss is the cross-entropy objective used in the orignal GAN paper.\n",
    "        \"gan_mode\": \"lsgan\",\n",
    "        # Adam optimizer\n",
    "        \"beta1\": 0.5,  # momentum term of adam\n",
    "        \"lr\": 0.0002,  # initial learning rate for adam\n",
    "        # learning rate policy. [linear | step | plateau | cosine]\n",
    "        \"lr_policy\": \"linear\",\n",
    "        # Data\n",
    "        \"workdir\": f\"{workdir}/10_outputs_run_gan\",\n",
    "        \"input_files\": [\n",
    "            \"2_outputs_run_node2vec_format_apms_emd/bioplex3.tsv\",\n",
    "            \"3_outputs_format_image_emd/hek293_img_emb_first_image.tsv\",\n",
    "            \"0_inputs/seq_emb.tsv\",\n",
    "        ],\n",
    "        \"modalities\": [\"bioplex\", \"hpa_images\", \"sequence\"],\n",
    "        \"aligned\": True,\n",
    "    },\n",
    ")"
   ]
  },
  {
   "cell_type": "code",
   "execution_count": null,
   "metadata": {},
   "outputs": [],
   "source": [
    "model = gan.clip_fit_predict(\n",
    "    config=wandb.config,\n",
    "    wandb=wandb,\n",
    ")\n",
    "wandb.finish()"
   ]
  }
 ],
 "metadata": {
  "kernelspec": {
   "display_name": "music",
   "language": "python",
   "name": "python3"
  },
  "language_info": {
   "codemirror_mode": {
    "name": "ipython",
    "version": 3
   },
   "file_extension": ".py",
   "mimetype": "text/x-python",
   "name": "python",
   "nbconvert_exporter": "python",
   "pygments_lexer": "ipython3",
   "version": "3.8.16"
  },
  "orig_nbformat": 4
 },
 "nbformat": 4,
 "nbformat_minor": 2
}
