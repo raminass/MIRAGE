{
 "cells": [
  {
   "cell_type": "code",
   "execution_count": 1,
   "metadata": {},
   "outputs": [
    {
     "name": "stderr",
     "output_type": "stream",
     "text": [
      "\u001b[34m\u001b[1mwandb\u001b[0m: Currently logged in as: \u001b[33mraminass\u001b[0m. Use \u001b[1m`wandb login --relogin`\u001b[0m to force relogin\n"
     ]
    }
   ],
   "source": [
    "import pandas as pd\n",
    "import sys\n",
    "\n",
    "import os\n",
    "\n",
    "workdir = os.getcwd()\n",
    "import mirage_sc as mirage\n",
    "\n",
    "import wandb\n",
    "\n",
    "workdir = os.getcwd()\n",
    "sys.path.append(workdir)\n",
    "wandb.login()\n",
    "\n",
    "%reload_ext autoreload\n",
    "%autoreload 2"
   ]
  },
  {
   "cell_type": "markdown",
   "metadata": {},
   "source": [
    "## PPI + IMG + SEQ\n"
   ]
  },
  {
   "cell_type": "code",
   "execution_count": null,
   "metadata": {},
   "outputs": [],
   "source": [
    "wandb.finish()\n",
    "wandb.init(\n",
    "    # Set the project where this run will be logged\n",
    "    project=\"Cyclic-GAN\",\n",
    "    # We pass a run name (otherwise it’ll be randomly assigned, like sunshine-lollypop-10)\n",
    "    # name=f\"\",\n",
    "    # Track hyperparameters and run metadata\n",
    "    config={\n",
    "        # Define the model hyperparameters\n",
    "        \"batch_size\": 32,\n",
    "        \"dropout\": 0.0,  # 0.25\n",
    "        \"latent_dim\": 128,  # output dim of embedding\n",
    "        \"hidden_dim\": 512,\n",
    "        # Training Configuration\n",
    "        \"isTrain\": True,\n",
    "        \"continue_train\": False,\n",
    "        \"verbose\": True,\n",
    "        \"n_epochs\": 100,  # number of epochs with the initial learning rate\n",
    "        \"epoch_count\": 1,\n",
    "        \"n_epochs_decay\": 100,  # number of epochs to linearly decay learning rate to zero\n",
    "        \"gpu_ids\": [0],\n",
    "        \"num_threads\": 4,\n",
    "        # initializers\n",
    "        \"init_type\": \"xavier\",  # normal, xavier, kaiming, orthogonal\n",
    "        \"init_gain\": 0.02,  # scaling factor for normal, xavier and orthogonal.\n",
    "        # Loss weights\n",
    "        \"lambda_G\": 1.0,\n",
    "        \"lambda_latent_cycle\": 10.0,\n",
    "        \"lambda_short_cycle\": 10.0,\n",
    "        # Gradient penalty\n",
    "        \"lambda_gp\": 0.1,  # gradient penalty lambda https://arxiv.org/pdf/1704.00028\n",
    "        \"gp_constant\": 0.0,  # gradient penalty constant https://arxiv.org/pdf/1704.00028\n",
    "        # [real | fake | mixed] Type of the gradient penalty\n",
    "        \"gp_type\": \"real\",\n",
    "        \"pool_size\": 50,  # the size of image buffer that stores previously generated images\n",
    "        # [vanilla| lsgan | wgangp], the type of GAN objective. vanilla GAN loss is the cross-entropy objective used in the orignal GAN paper.\n",
    "        \"gan_mode\": \"lsgan\",\n",
    "        # Adam optimizer\n",
    "        \"beta1\": 0.5,  # momentum term of adam\n",
    "        \"lr\": 0.0002,  # initial learning rate for adam\n",
    "        # learning rate policy. [linear | step | plateau | cosine]\n",
    "        \"lr_policy\": \"linear\",\n",
    "        # Data\n",
    "        \"workdir\": f\"{workdir}/10_outputs_run_gan\",\n",
    "        \"input_files\": [\n",
    "            \"data/bioplex3.tsv\",\n",
    "            \"data/hek293_img_emb_first_image.tsv\",\n",
    "            \"data/seq_emb.tsv\",\n",
    "        ],\n",
    "        \"modalities\": [\"bioplex\", \"hpa_images\", \"sequence\"],\n",
    "        \"aligned\": True,\n",
    "    },\n",
    ")"
   ]
  },
  {
   "cell_type": "code",
   "execution_count": null,
   "metadata": {},
   "outputs": [],
   "source": [
    "model = mirage.mirage_fit_predict(\n",
    "    config=wandb.config,\n",
    "    wandb=wandb,\n",
    ")\n",
    "wandb.finish()"
   ]
  }
 ],
 "metadata": {
  "kernelspec": {
   "display_name": "music",
   "language": "python",
   "name": "python3"
  },
  "language_info": {
   "codemirror_mode": {
    "name": "ipython",
    "version": 3
   },
   "file_extension": ".py",
   "mimetype": "text/x-python",
   "name": "python",
   "nbconvert_exporter": "python",
   "pygments_lexer": "ipython3",
   "version": "3.8.16"
  },
  "orig_nbformat": 4
 },
 "nbformat": 4,
 "nbformat_minor": 2
}
